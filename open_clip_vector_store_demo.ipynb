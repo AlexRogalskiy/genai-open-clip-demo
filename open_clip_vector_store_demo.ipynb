{
 "cells": [
  {
   "cell_type": "markdown",
   "id": "9c67b916-a6db-4d13-b4e7-073600ee94e0",
   "metadata": {
    "tags": []
   },
   "source": [
    "# Image Identification and Classification with Amazon Bedrock, OpenSearch, and OpenCLIP\n",
    "\n",
    "Build a generative AI-powered vehicle damage assessment application on AWS using Vector Engine for Amazon OpenSearch Serverless, AI21 Labs Foundation Models, and OpenCLIP"
   ]
  },
  {
   "cell_type": "markdown",
   "id": "b476d862-3048-4208-8137-5249d1c76720",
   "metadata": {},
   "source": [
    "References\n",
    "- https://github.com/mlfoundations/open_clip"
   ]
  },
  {
   "cell_type": "markdown",
   "id": "d019c722-df6b-468a-ac85-fefa310b0b3b",
   "metadata": {},
   "source": [
    "## Install OpenCLIP"
   ]
  },
  {
   "cell_type": "code",
   "execution_count": null,
   "id": "b48f6d83-2760-46b5-a9fe-4046b97d193c",
   "metadata": {
    "tags": []
   },
   "outputs": [],
   "source": [
    "# open_clip packages\n",
    "%pip install open_clip_torch pillow boto3 -Uq"
   ]
  },
  {
   "cell_type": "markdown",
   "id": "465b1557-bcb3-407e-b9c3-0c757f3bdbbe",
   "metadata": {},
   "source": [
    "## Install OpenSearch Python Client"
   ]
  },
  {
   "cell_type": "code",
   "execution_count": null,
   "id": "d495a519-96d8-4717-bfe8-2448b9741755",
   "metadata": {
    "tags": []
   },
   "outputs": [],
   "source": [
    "# opensearch python client\n",
    "%pip install opensearch-py -Uq"
   ]
  },
  {
   "cell_type": "code",
   "execution_count": null,
   "id": "6e23fde4-eaae-4dba-9f0a-62b64b1a64cb",
   "metadata": {
    "tags": []
   },
   "outputs": [],
   "source": [
    "# optionally, restart kernel to update packages\n",
    "import os\n",
    "\n",
    "os._exit(00)"
   ]
  },
  {
   "cell_type": "code",
   "execution_count": null,
   "id": "cb3cc2da-452a-4fb3-99fa-50f2fd0dd1c2",
   "metadata": {
    "tags": []
   },
   "outputs": [],
   "source": [
    "%pip list | grep 'open-clip-torch\\|torch\\|opensearch-py\\|boto3'"
   ]
  },
  {
   "cell_type": "code",
   "execution_count": null,
   "id": "77a40d87-947e-4b31-a44a-063630d0dd40",
   "metadata": {
    "tags": []
   },
   "outputs": [],
   "source": [
    "import csv\n",
    "import json\n",
    "import os\n",
    "import random\n",
    "\n",
    "import open_clip\n",
    "import torch\n",
    "from PIL import Image"
   ]
  },
  {
   "cell_type": "code",
   "execution_count": null,
   "id": "c5eae98d-6b82-497b-becc-f8809b566b6c",
   "metadata": {
    "tags": []
   },
   "outputs": [],
   "source": [
    "print(torch.__version__)"
   ]
  },
  {
   "cell_type": "code",
   "execution_count": null,
   "id": "e30c1aaa-8373-411a-b392-2793f1d4f688",
   "metadata": {
    "tags": []
   },
   "outputs": [],
   "source": [
    "# list pre-trained CLIP models\n",
    "open_clip.list_pretrained()"
   ]
  },
  {
   "cell_type": "code",
   "execution_count": null,
   "id": "d675f86d-903e-4d1c-8f5b-24cdbf63c866",
   "metadata": {
    "tags": []
   },
   "outputs": [],
   "source": [
    "device = torch.device(\"cuda\") if torch.cuda.is_available() else torch.device(\"cpu\")\n",
    "\n",
    "device"
   ]
  },
  {
   "cell_type": "code",
   "execution_count": null,
   "id": "66d4fe5e-e940-41e0-b71d-47d5dae622b1",
   "metadata": {
    "tags": []
   },
   "outputs": [],
   "source": [
    "# CLIP ViT L/14 model trained with the LAION-2B English subset of LAION-5B using OpenCLIP\n",
    "# reference: https://huggingface.co/laion/CLIP-ViT-L-14-laion2B-s32B-b82K\n",
    "model, _, preprocess = open_clip.create_model_and_transforms(\n",
    "    model_name=\"ViT-L-14\",\n",
    "    pretrained=\"laion2b_s32b_b82k\",\n",
    "    device=device,\n",
    ")\n",
    "\n",
    "tokenizer = open_clip.get_tokenizer(\"ViT-L-14\")"
   ]
  },
  {
   "cell_type": "markdown",
   "id": "2f76c5a1-7738-498c-8d46-b7d1684b11fe",
   "metadata": {},
   "source": [
    "## Create Embeddings"
   ]
  },
  {
   "cell_type": "code",
   "execution_count": null,
   "id": "c599eb85-12b9-41a4-86a1-08f2f1343e70",
   "metadata": {
    "tags": []
   },
   "outputs": [],
   "source": [
    "# create image embedding using open clip\n",
    "def create_image_embedding(image_path, device):\n",
    "    image = preprocess(Image.open(image_path)).unsqueeze(0)\n",
    "    image = image.to(device)\n",
    "\n",
    "    # # visualize preprocessed image\n",
    "    # image_vis = image[0]/2 + 0.5 # unnormalize the image\n",
    "    # plt.axis(\"off\")\n",
    "    # plt.imshow(np.transpose(image_vis, (1,2,0))) # convert from tensor to image\n",
    "    # plt.show()\n",
    "\n",
    "    with torch.no_grad(), torch.cuda.amp.autocast():\n",
    "        image_features = model.encode_image(image)\n",
    "    return image_features.tolist()[0]"
   ]
  },
  {
   "cell_type": "code",
   "execution_count": null,
   "id": "d50d730b-9e41-4aeb-96c6-31a13a863e17",
   "metadata": {
    "tags": []
   },
   "outputs": [],
   "source": [
    "# create text embedding using open clip\n",
    "def create_text_embedding(text):\n",
    "    text = tokenizer(text)\n",
    "    text = text.to(device)\n",
    "\n",
    "    with torch.no_grad(), torch.cuda.amp.autocast():\n",
    "        text_features = model.encode_text(text)\n",
    "    return text_features.tolist()[0]"
   ]
  },
  {
   "cell_type": "code",
   "execution_count": null,
   "id": "63ea19cf-a4ab-4e9d-b7d4-46d32502119b",
   "metadata": {
    "tags": []
   },
   "outputs": [],
   "source": [
    "# assign a random severity to damaged vehicle image\n",
    "def random_severity():\n",
    "    damage_severity_list = [\"minor\", \"moderate\", \"severe\"]\n",
    "    severity = random.choice(damage_severity_list)\n",
    "    return severity"
   ]
  },
  {
   "cell_type": "code",
   "execution_count": null,
   "id": "d97a20ea-def6-48f0-b268-154da1c8102d",
   "metadata": {
    "tags": []
   },
   "outputs": [],
   "source": [
    "index_name = \"open-clip-vehicle-eval-index\""
   ]
  },
  {
   "cell_type": "code",
   "execution_count": null,
   "id": "b32a78f1-cf05-4276-befa-52b73243b37c",
   "metadata": {
    "tags": []
   },
   "outputs": [],
   "source": [
    "# create vector embeddings and corresponding opensearch documents for image\n",
    "def create_documents_with_embeddings_to_csv(document_path, image_directory, damage):\n",
    "    embedding_request_body = \"\"\n",
    "    row_count = 0\n",
    "    header = [\"document\"]\n",
    "    ext = [\".png\", \".jpeg\", \".jpg\"]\n",
    "\n",
    "    with open(document_path, \"w\", encoding=\"UTF8\", newline=\"\") as f:\n",
    "        writer = csv.writer(f)\n",
    "        writer.writerow(header)\n",
    "\n",
    "        for dir_path, dir_names, filenames in os.walk(image_directory):\n",
    "            for filename in filenames:\n",
    "                if filename.lower().endswith(tuple(ext)):\n",
    "                    description = dir_path.split(\"/\")[-1]\n",
    "                    file_path = os.path.join(dir_path, filename)\n",
    "                    try:\n",
    "                        embedding = create_image_embedding(file_path, device)\n",
    "                        embedding_request_body = json.dumps(\n",
    "                            {\n",
    "                                \"image_vector\": embedding,\n",
    "                                \"name\": filename,\n",
    "                                \"file_path\": file_path,\n",
    "                                \"description\": description,\n",
    "                                \"severity\": random_severity() if damage else \"none\",\n",
    "                            }\n",
    "                        )\n",
    "                        writer.writerow([embedding_request_body])\n",
    "                        print(f\"Creating document: {row_count}\", end=\"\\r\")\n",
    "                        row_count += 1\n",
    "                    except Exception as ex:\n",
    "                        print(ex)"
   ]
  },
  {
   "cell_type": "code",
   "execution_count": null,
   "id": "6cdae0b7-5856-4564-b55c-0c98e3a909b5",
   "metadata": {
    "tags": []
   },
   "outputs": [],
   "source": [
    "create_documents_with_embeddings_to_csv(\n",
    "    \"embeddings/open_clip_embeddings_undamaged.csv\", \"undamaged_car_images/\", False\n",
    ")"
   ]
  },
  {
   "cell_type": "code",
   "execution_count": null,
   "id": "3f0defb0-4eeb-4106-b212-d7d187c20e24",
   "metadata": {
    "tags": []
   },
   "outputs": [],
   "source": [
    "create_documents_with_embeddings_to_csv(\n",
    "    \"embeddings/open_clip_embeddings_damaged.csv\", \"damaged_car_images/\", True\n",
    ")"
   ]
  },
  {
   "cell_type": "markdown",
   "id": "e873ffba-f253-437e-93d3-008eb5e5e524",
   "metadata": {
    "tags": []
   },
   "source": [
    "# Amazon OpenSearch Serverless Vectorsearch Collection\n",
    "\n",
    "References\n",
    "\n",
    "- https://opensearch.org/docs/latest/clients/python-low-level/#connecting-to-amazon-opensearch-serverless"
   ]
  },
  {
   "cell_type": "code",
   "execution_count": null,
   "id": "52e83293-0e57-4856-a836-07c89172b4b7",
   "metadata": {
    "tags": []
   },
   "outputs": [],
   "source": [
    "# create opensearch serverless client\n",
    "# https://opensearch.org/docs/latest/clients/python-low-level/#connecting-to-amazon-opensearch-serverless\n",
    "from opensearchpy import OpenSearch, RequestsHttpConnection, AWSV4SignerAuth, helpers\n",
    "import boto3\n",
    "\n",
    "host = \"<your_host>.us-east-1.aoss.amazonaws.com\"\n",
    "region = \"us-east-1\"\n",
    "service = \"aoss\"\n",
    "credentials = boto3.Session().get_credentials()\n",
    "auth = AWSV4SignerAuth(credentials, region, service)\n",
    "\n",
    "client = OpenSearch(\n",
    "    hosts=[{\"host\": host, \"port\": 443}],\n",
    "    http_auth=auth,\n",
    "    use_ssl=True,\n",
    "    verify_certs=True,\n",
    "    connection_class=RequestsHttpConnection,\n",
    "    pool_maxsize=20,\n",
    ")\n",
    "\n",
    "client"
   ]
  },
  {
   "cell_type": "code",
   "execution_count": null,
   "id": "84c62ae0-1bf0-4c1d-bccd-7ef17e194dee",
   "metadata": {
    "tags": []
   },
   "outputs": [],
   "source": [
    "# delete index\n",
    "try:\n",
    "    response = client.indices.delete(index_name)\n",
    "    print(json.dumps(response, indent=2))\n",
    "except Exception as ex:\n",
    "    print(ex.error)"
   ]
  },
  {
   "cell_type": "code",
   "execution_count": null,
   "id": "57e1f98f-33ca-4529-b0e0-2444bb8a3190",
   "metadata": {
    "tags": []
   },
   "outputs": [],
   "source": [
    "# create new index\n",
    "index_body = {\n",
    "    \"mappings\": {\n",
    "        \"properties\": {\n",
    "            \"description\": {\"type\": \"text\"},\n",
    "            \"file_path\": {\"type\": \"text\"},\n",
    "            \"image_vector\": {\n",
    "                \"type\": \"knn_vector\",\n",
    "                \"dimension\": 768,\n",
    "                \"method\": {\n",
    "                    \"engine\": \"nmslib\",\n",
    "                    \"space_type\": \"cosinesimil\",\n",
    "                    \"name\": \"hnsw\",\n",
    "                    \"parameters\": {\"ef_construction\": 768, \"m\": 16},\n",
    "                },\n",
    "            },\n",
    "            \"severity\": {\"type\": \"text\"},\n",
    "            \"name\": {\"type\": \"text\"},\n",
    "        }\n",
    "    },\n",
    "    \"settings\": {\n",
    "        \"index\": {\n",
    "            \"number_of_shards\": 4,\n",
    "            \"knn.algo_param\": {\"ef_search\": 768},\n",
    "            \"knn\": True,\n",
    "        }\n",
    "    },\n",
    "}\n",
    "\n",
    "try:\n",
    "    response = client.indices.create(index_name, body=index_body)\n",
    "    print(json.dumps(response, indent=2))\n",
    "except Exception as ex:\n",
    "    print(ex)"
   ]
  },
  {
   "cell_type": "code",
   "execution_count": null,
   "id": "2bd2d943-109f-4f59-a272-212e76ec5abd",
   "metadata": {
    "tags": []
   },
   "outputs": [],
   "source": [
    "# describe new vector index\n",
    "try:\n",
    "    response = client.indices.get(index_name)\n",
    "    print(json.dumps(response, indent=2))\n",
    "except Exception as ex:\n",
    "    print(ex.error)"
   ]
  },
  {
   "cell_type": "code",
   "execution_count": null,
   "id": "94e8f4c4",
   "metadata": {
    "tags": []
   },
   "outputs": [],
   "source": [
    "# load documents from csv file and index to opensearch\n",
    "# https://opensearch.org/docs/latest/clients/python-high-level/#indexing-a-document\n",
    "def index_documents(document_path):\n",
    "    with open(document_path) as f:\n",
    "        row_count = sum(1 for _ in f) - 1\n",
    "\n",
    "        f.seek(0)\n",
    "        reader = csv.reader(f)\n",
    "        next(reader)\n",
    "        for index, row in enumerate(reader):\n",
    "            try:\n",
    "                document = eval(row[0])\n",
    "                client.index(\n",
    "                    index=index_name,\n",
    "                    body=document,\n",
    "                )\n",
    "                print(f\"Indexing document: {index+1}/{row_count}\", end=\"\\r\")\n",
    "            except Exception as ex:\n",
    "                print(ex)"
   ]
  },
  {
   "cell_type": "code",
   "execution_count": null,
   "id": "2205fdb6-1e6a-4bf3-bf2b-14652eb34f19",
   "metadata": {
    "tags": []
   },
   "outputs": [],
   "source": [
    "index_documents(\"embeddings/open_clip_embeddings_undamaged.csv\")"
   ]
  },
  {
   "cell_type": "code",
   "execution_count": null,
   "id": "8521ff80-8ac3-4a19-9e45-ba6cbfc8ad19",
   "metadata": {
    "tags": []
   },
   "outputs": [],
   "source": [
    "index_documents(\"embeddings/open_clip_embeddings_damaged.csv\")"
   ]
  },
  {
   "cell_type": "markdown",
   "id": "f5530181-e258-4a9b-96a0-b5eb598f7006",
   "metadata": {},
   "source": [
    "## Image Search using Text Embedding"
   ]
  },
  {
   "cell_type": "code",
   "execution_count": null,
   "id": "cda1f91d-16ea-4a65-b3ae-2bacd26a6e0e",
   "metadata": {
    "tags": []
   },
   "outputs": [],
   "source": [
    "text_query = \"photo of a scratched car door\"\n",
    "\n",
    "text_embedding = create_text_embedding(text_query)\n",
    "print(text_embedding[0:12])\n",
    "print(len(text_embedding))"
   ]
  },
  {
   "cell_type": "code",
   "execution_count": null,
   "id": "cdbeafd7-b586-4dca-8288-2953b9d98add",
   "metadata": {
    "tags": []
   },
   "outputs": [],
   "source": [
    "# query index using text embedding\n",
    "query = {\n",
    "    \"size\": 10,\n",
    "    \"_source\": {\"excludes\": [\"image_vector\"]},\n",
    "    \"query\": {\n",
    "        \"knn\": {\n",
    "            \"image_vector\": {\n",
    "                \"vector\": text_embedding,\n",
    "                \"k\": 10,\n",
    "            }\n",
    "        }\n",
    "    },\n",
    "}\n",
    "\n",
    "try:\n",
    "    text_based_search_response = client.search(body=query, index=index_name)\n",
    "except Exception as ex:\n",
    "    print(ex)"
   ]
  },
  {
   "cell_type": "code",
   "execution_count": null,
   "id": "6a26de3b",
   "metadata": {
    "tags": []
   },
   "outputs": [],
   "source": [
    "from matplotlib import pyplot as plt\n",
    "from PIL import Image\n",
    "import numpy as np\n",
    "\n",
    "x = 1\n",
    "rows = 4\n",
    "columns = 5\n",
    "\n",
    "fig = plt.figure(figsize=(14, 7))\n",
    "\n",
    "print(f'Text-based query: \"{text_query}\"\\n')\n",
    "\n",
    "for hit in text_based_search_response[\"hits\"][\"hits\"]:\n",
    "    fig.add_subplot(rows, columns, x)\n",
    "    image = np.array(Image.open(hit[\"_source\"][\"file_path\"]))\n",
    "    plt.axis(\"off\")\n",
    "    plt.title(\n",
    "        f'{hit[\"_source\"][\"description\"][0:35]}...\\nSeverity: {hit[\"_source\"][\"severity\"]}\\n{hit[\"_score\"]:.2%}',\n",
    "        fontsize=10,\n",
    "    )\n",
    "    plt.imshow(image)\n",
    "    x += 1"
   ]
  },
  {
   "cell_type": "markdown",
   "id": "76369b5b-bf3e-4e98-a0c6-aa281301718c",
   "metadata": {},
   "source": [
    "## Image Search using Image Embedding"
   ]
  },
  {
   "cell_type": "code",
   "execution_count": null,
   "id": "ad52244e-4137-49a8-b48f-82c3cb80ac11",
   "metadata": {
    "tags": []
   },
   "outputs": [],
   "source": [
    "from matplotlib import pyplot as plt\n",
    "from PIL import Image\n",
    "import numpy as np\n",
    "\n",
    "search_image_path_01 = \"test_images/undamaged/test_image_09.png\"\n",
    "search_image_01 = np.array(Image.open(search_image_path_01))\n",
    "plt.box(on=None)\n",
    "plt.axis(\"off\")\n",
    "plt.imshow(search_image_01)"
   ]
  },
  {
   "cell_type": "code",
   "execution_count": null,
   "id": "0319738a",
   "metadata": {
    "tags": []
   },
   "outputs": [],
   "source": [
    "image_embedding_01 = create_image_embedding(search_image_path_01, device)\n",
    "print(image_embedding_01[0:12])"
   ]
  },
  {
   "cell_type": "code",
   "execution_count": null,
   "id": "825fd23d-05a3-418c-bb99-501be0f18518",
   "metadata": {
    "tags": []
   },
   "outputs": [],
   "source": [
    "# query index using image embedding\n",
    "# https://docs.aws.amazon.com/opensearch-service/latest/developerguide/knn.html\n",
    "query = {\n",
    "    \"size\": 10,\n",
    "    \"_source\": {\"excludes\": [\"image_vector\"]},\n",
    "    \"query\": {\n",
    "        \"knn\": {\n",
    "            \"image_vector\": {\n",
    "                \"vector\": image_embedding_01,\n",
    "                \"k\": 10,\n",
    "            }\n",
    "        }\n",
    "    },\n",
    "}\n",
    "\n",
    "try:\n",
    "    image_based_search_response_01 = client.search(body=query, index=index_name)\n",
    "except Exception as ex:\n",
    "    print(ex)"
   ]
  },
  {
   "cell_type": "code",
   "execution_count": null,
   "id": "5362b553-b250-4b1f-bf42-135c9c72a92c",
   "metadata": {
    "tags": []
   },
   "outputs": [],
   "source": [
    "from matplotlib import pyplot as plt\n",
    "from PIL import Image\n",
    "import numpy as np\n",
    "\n",
    "plt.title(\"Search image\", fontsize=10)\n",
    "\n",
    "plt.rcParams[\"figure.figsize\"] = [3, 2]\n",
    "plt.rcParams[\"figure.autolayout\"] = True\n",
    "\n",
    "plt.box(on=None)\n",
    "plt.axis(\"off\")\n",
    "plt.imshow(search_image_01)\n",
    "\n",
    "index = 1\n",
    "rows = 4\n",
    "columns = 5\n",
    "\n",
    "print(f\"Image-based query results\\n\")\n",
    "\n",
    "fig = plt.figure(figsize=(18, 9))\n",
    "\n",
    "for hit in image_based_search_response_01[\"hits\"][\"hits\"]:\n",
    "    fig.add_subplot(rows, columns, index)\n",
    "    image = np.array(Image.open(hit[\"_source\"][\"file_path\"]))\n",
    "    plt.axis(\"off\")\n",
    "    plt.title(\n",
    "        f'{hit[\"_source\"][\"description\"][0:35]}...\\nSeverity: {hit[\"_source\"][\"severity\"]}\\n{hit[\"_score\"]:.2%}',\n",
    "        fontsize=11,\n",
    "    )\n",
    "    plt.imshow(image)\n",
    "    index += 1"
   ]
  }
 ],
 "metadata": {
  "availableInstances": [
   {
    "_defaultOrder": 0,
    "_isFastLaunch": true,
    "category": "General purpose",
    "gpuNum": 0,
    "hideHardwareSpecs": false,
    "memoryGiB": 4,
    "name": "ml.t3.medium",
    "vcpuNum": 2
   },
   {
    "_defaultOrder": 1,
    "_isFastLaunch": false,
    "category": "General purpose",
    "gpuNum": 0,
    "hideHardwareSpecs": false,
    "memoryGiB": 8,
    "name": "ml.t3.large",
    "vcpuNum": 2
   },
   {
    "_defaultOrder": 2,
    "_isFastLaunch": false,
    "category": "General purpose",
    "gpuNum": 0,
    "hideHardwareSpecs": false,
    "memoryGiB": 16,
    "name": "ml.t3.xlarge",
    "vcpuNum": 4
   },
   {
    "_defaultOrder": 3,
    "_isFastLaunch": false,
    "category": "General purpose",
    "gpuNum": 0,
    "hideHardwareSpecs": false,
    "memoryGiB": 32,
    "name": "ml.t3.2xlarge",
    "vcpuNum": 8
   },
   {
    "_defaultOrder": 4,
    "_isFastLaunch": true,
    "category": "General purpose",
    "gpuNum": 0,
    "hideHardwareSpecs": false,
    "memoryGiB": 8,
    "name": "ml.m5.large",
    "vcpuNum": 2
   },
   {
    "_defaultOrder": 5,
    "_isFastLaunch": false,
    "category": "General purpose",
    "gpuNum": 0,
    "hideHardwareSpecs": false,
    "memoryGiB": 16,
    "name": "ml.m5.xlarge",
    "vcpuNum": 4
   },
   {
    "_defaultOrder": 6,
    "_isFastLaunch": false,
    "category": "General purpose",
    "gpuNum": 0,
    "hideHardwareSpecs": false,
    "memoryGiB": 32,
    "name": "ml.m5.2xlarge",
    "vcpuNum": 8
   },
   {
    "_defaultOrder": 7,
    "_isFastLaunch": false,
    "category": "General purpose",
    "gpuNum": 0,
    "hideHardwareSpecs": false,
    "memoryGiB": 64,
    "name": "ml.m5.4xlarge",
    "vcpuNum": 16
   },
   {
    "_defaultOrder": 8,
    "_isFastLaunch": false,
    "category": "General purpose",
    "gpuNum": 0,
    "hideHardwareSpecs": false,
    "memoryGiB": 128,
    "name": "ml.m5.8xlarge",
    "vcpuNum": 32
   },
   {
    "_defaultOrder": 9,
    "_isFastLaunch": false,
    "category": "General purpose",
    "gpuNum": 0,
    "hideHardwareSpecs": false,
    "memoryGiB": 192,
    "name": "ml.m5.12xlarge",
    "vcpuNum": 48
   },
   {
    "_defaultOrder": 10,
    "_isFastLaunch": false,
    "category": "General purpose",
    "gpuNum": 0,
    "hideHardwareSpecs": false,
    "memoryGiB": 256,
    "name": "ml.m5.16xlarge",
    "vcpuNum": 64
   },
   {
    "_defaultOrder": 11,
    "_isFastLaunch": false,
    "category": "General purpose",
    "gpuNum": 0,
    "hideHardwareSpecs": false,
    "memoryGiB": 384,
    "name": "ml.m5.24xlarge",
    "vcpuNum": 96
   },
   {
    "_defaultOrder": 12,
    "_isFastLaunch": false,
    "category": "General purpose",
    "gpuNum": 0,
    "hideHardwareSpecs": false,
    "memoryGiB": 8,
    "name": "ml.m5d.large",
    "vcpuNum": 2
   },
   {
    "_defaultOrder": 13,
    "_isFastLaunch": false,
    "category": "General purpose",
    "gpuNum": 0,
    "hideHardwareSpecs": false,
    "memoryGiB": 16,
    "name": "ml.m5d.xlarge",
    "vcpuNum": 4
   },
   {
    "_defaultOrder": 14,
    "_isFastLaunch": false,
    "category": "General purpose",
    "gpuNum": 0,
    "hideHardwareSpecs": false,
    "memoryGiB": 32,
    "name": "ml.m5d.2xlarge",
    "vcpuNum": 8
   },
   {
    "_defaultOrder": 15,
    "_isFastLaunch": false,
    "category": "General purpose",
    "gpuNum": 0,
    "hideHardwareSpecs": false,
    "memoryGiB": 64,
    "name": "ml.m5d.4xlarge",
    "vcpuNum": 16
   },
   {
    "_defaultOrder": 16,
    "_isFastLaunch": false,
    "category": "General purpose",
    "gpuNum": 0,
    "hideHardwareSpecs": false,
    "memoryGiB": 128,
    "name": "ml.m5d.8xlarge",
    "vcpuNum": 32
   },
   {
    "_defaultOrder": 17,
    "_isFastLaunch": false,
    "category": "General purpose",
    "gpuNum": 0,
    "hideHardwareSpecs": false,
    "memoryGiB": 192,
    "name": "ml.m5d.12xlarge",
    "vcpuNum": 48
   },
   {
    "_defaultOrder": 18,
    "_isFastLaunch": false,
    "category": "General purpose",
    "gpuNum": 0,
    "hideHardwareSpecs": false,
    "memoryGiB": 256,
    "name": "ml.m5d.16xlarge",
    "vcpuNum": 64
   },
   {
    "_defaultOrder": 19,
    "_isFastLaunch": false,
    "category": "General purpose",
    "gpuNum": 0,
    "hideHardwareSpecs": false,
    "memoryGiB": 384,
    "name": "ml.m5d.24xlarge",
    "vcpuNum": 96
   },
   {
    "_defaultOrder": 20,
    "_isFastLaunch": false,
    "category": "General purpose",
    "gpuNum": 0,
    "hideHardwareSpecs": true,
    "memoryGiB": 0,
    "name": "ml.geospatial.interactive",
    "supportedImageNames": [
     "sagemaker-geospatial-v1-0"
    ],
    "vcpuNum": 0
   },
   {
    "_defaultOrder": 21,
    "_isFastLaunch": true,
    "category": "Compute optimized",
    "gpuNum": 0,
    "hideHardwareSpecs": false,
    "memoryGiB": 4,
    "name": "ml.c5.large",
    "vcpuNum": 2
   },
   {
    "_defaultOrder": 22,
    "_isFastLaunch": false,
    "category": "Compute optimized",
    "gpuNum": 0,
    "hideHardwareSpecs": false,
    "memoryGiB": 8,
    "name": "ml.c5.xlarge",
    "vcpuNum": 4
   },
   {
    "_defaultOrder": 23,
    "_isFastLaunch": false,
    "category": "Compute optimized",
    "gpuNum": 0,
    "hideHardwareSpecs": false,
    "memoryGiB": 16,
    "name": "ml.c5.2xlarge",
    "vcpuNum": 8
   },
   {
    "_defaultOrder": 24,
    "_isFastLaunch": false,
    "category": "Compute optimized",
    "gpuNum": 0,
    "hideHardwareSpecs": false,
    "memoryGiB": 32,
    "name": "ml.c5.4xlarge",
    "vcpuNum": 16
   },
   {
    "_defaultOrder": 25,
    "_isFastLaunch": false,
    "category": "Compute optimized",
    "gpuNum": 0,
    "hideHardwareSpecs": false,
    "memoryGiB": 72,
    "name": "ml.c5.9xlarge",
    "vcpuNum": 36
   },
   {
    "_defaultOrder": 26,
    "_isFastLaunch": false,
    "category": "Compute optimized",
    "gpuNum": 0,
    "hideHardwareSpecs": false,
    "memoryGiB": 96,
    "name": "ml.c5.12xlarge",
    "vcpuNum": 48
   },
   {
    "_defaultOrder": 27,
    "_isFastLaunch": false,
    "category": "Compute optimized",
    "gpuNum": 0,
    "hideHardwareSpecs": false,
    "memoryGiB": 144,
    "name": "ml.c5.18xlarge",
    "vcpuNum": 72
   },
   {
    "_defaultOrder": 28,
    "_isFastLaunch": false,
    "category": "Compute optimized",
    "gpuNum": 0,
    "hideHardwareSpecs": false,
    "memoryGiB": 192,
    "name": "ml.c5.24xlarge",
    "vcpuNum": 96
   },
   {
    "_defaultOrder": 29,
    "_isFastLaunch": true,
    "category": "Accelerated computing",
    "gpuNum": 1,
    "hideHardwareSpecs": false,
    "memoryGiB": 16,
    "name": "ml.g4dn.xlarge",
    "vcpuNum": 4
   },
   {
    "_defaultOrder": 30,
    "_isFastLaunch": false,
    "category": "Accelerated computing",
    "gpuNum": 1,
    "hideHardwareSpecs": false,
    "memoryGiB": 32,
    "name": "ml.g4dn.2xlarge",
    "vcpuNum": 8
   },
   {
    "_defaultOrder": 31,
    "_isFastLaunch": false,
    "category": "Accelerated computing",
    "gpuNum": 1,
    "hideHardwareSpecs": false,
    "memoryGiB": 64,
    "name": "ml.g4dn.4xlarge",
    "vcpuNum": 16
   },
   {
    "_defaultOrder": 32,
    "_isFastLaunch": false,
    "category": "Accelerated computing",
    "gpuNum": 1,
    "hideHardwareSpecs": false,
    "memoryGiB": 128,
    "name": "ml.g4dn.8xlarge",
    "vcpuNum": 32
   },
   {
    "_defaultOrder": 33,
    "_isFastLaunch": false,
    "category": "Accelerated computing",
    "gpuNum": 4,
    "hideHardwareSpecs": false,
    "memoryGiB": 192,
    "name": "ml.g4dn.12xlarge",
    "vcpuNum": 48
   },
   {
    "_defaultOrder": 34,
    "_isFastLaunch": false,
    "category": "Accelerated computing",
    "gpuNum": 1,
    "hideHardwareSpecs": false,
    "memoryGiB": 256,
    "name": "ml.g4dn.16xlarge",
    "vcpuNum": 64
   },
   {
    "_defaultOrder": 35,
    "_isFastLaunch": false,
    "category": "Accelerated computing",
    "gpuNum": 1,
    "hideHardwareSpecs": false,
    "memoryGiB": 61,
    "name": "ml.p3.2xlarge",
    "vcpuNum": 8
   },
   {
    "_defaultOrder": 36,
    "_isFastLaunch": false,
    "category": "Accelerated computing",
    "gpuNum": 4,
    "hideHardwareSpecs": false,
    "memoryGiB": 244,
    "name": "ml.p3.8xlarge",
    "vcpuNum": 32
   },
   {
    "_defaultOrder": 37,
    "_isFastLaunch": false,
    "category": "Accelerated computing",
    "gpuNum": 8,
    "hideHardwareSpecs": false,
    "memoryGiB": 488,
    "name": "ml.p3.16xlarge",
    "vcpuNum": 64
   },
   {
    "_defaultOrder": 38,
    "_isFastLaunch": false,
    "category": "Accelerated computing",
    "gpuNum": 8,
    "hideHardwareSpecs": false,
    "memoryGiB": 768,
    "name": "ml.p3dn.24xlarge",
    "vcpuNum": 96
   },
   {
    "_defaultOrder": 39,
    "_isFastLaunch": false,
    "category": "Memory Optimized",
    "gpuNum": 0,
    "hideHardwareSpecs": false,
    "memoryGiB": 16,
    "name": "ml.r5.large",
    "vcpuNum": 2
   },
   {
    "_defaultOrder": 40,
    "_isFastLaunch": false,
    "category": "Memory Optimized",
    "gpuNum": 0,
    "hideHardwareSpecs": false,
    "memoryGiB": 32,
    "name": "ml.r5.xlarge",
    "vcpuNum": 4
   },
   {
    "_defaultOrder": 41,
    "_isFastLaunch": false,
    "category": "Memory Optimized",
    "gpuNum": 0,
    "hideHardwareSpecs": false,
    "memoryGiB": 64,
    "name": "ml.r5.2xlarge",
    "vcpuNum": 8
   },
   {
    "_defaultOrder": 42,
    "_isFastLaunch": false,
    "category": "Memory Optimized",
    "gpuNum": 0,
    "hideHardwareSpecs": false,
    "memoryGiB": 128,
    "name": "ml.r5.4xlarge",
    "vcpuNum": 16
   },
   {
    "_defaultOrder": 43,
    "_isFastLaunch": false,
    "category": "Memory Optimized",
    "gpuNum": 0,
    "hideHardwareSpecs": false,
    "memoryGiB": 256,
    "name": "ml.r5.8xlarge",
    "vcpuNum": 32
   },
   {
    "_defaultOrder": 44,
    "_isFastLaunch": false,
    "category": "Memory Optimized",
    "gpuNum": 0,
    "hideHardwareSpecs": false,
    "memoryGiB": 384,
    "name": "ml.r5.12xlarge",
    "vcpuNum": 48
   },
   {
    "_defaultOrder": 45,
    "_isFastLaunch": false,
    "category": "Memory Optimized",
    "gpuNum": 0,
    "hideHardwareSpecs": false,
    "memoryGiB": 512,
    "name": "ml.r5.16xlarge",
    "vcpuNum": 64
   },
   {
    "_defaultOrder": 46,
    "_isFastLaunch": false,
    "category": "Memory Optimized",
    "gpuNum": 0,
    "hideHardwareSpecs": false,
    "memoryGiB": 768,
    "name": "ml.r5.24xlarge",
    "vcpuNum": 96
   },
   {
    "_defaultOrder": 47,
    "_isFastLaunch": false,
    "category": "Accelerated computing",
    "gpuNum": 1,
    "hideHardwareSpecs": false,
    "memoryGiB": 16,
    "name": "ml.g5.xlarge",
    "vcpuNum": 4
   },
   {
    "_defaultOrder": 48,
    "_isFastLaunch": false,
    "category": "Accelerated computing",
    "gpuNum": 1,
    "hideHardwareSpecs": false,
    "memoryGiB": 32,
    "name": "ml.g5.2xlarge",
    "vcpuNum": 8
   },
   {
    "_defaultOrder": 49,
    "_isFastLaunch": false,
    "category": "Accelerated computing",
    "gpuNum": 1,
    "hideHardwareSpecs": false,
    "memoryGiB": 64,
    "name": "ml.g5.4xlarge",
    "vcpuNum": 16
   },
   {
    "_defaultOrder": 50,
    "_isFastLaunch": false,
    "category": "Accelerated computing",
    "gpuNum": 1,
    "hideHardwareSpecs": false,
    "memoryGiB": 128,
    "name": "ml.g5.8xlarge",
    "vcpuNum": 32
   },
   {
    "_defaultOrder": 51,
    "_isFastLaunch": false,
    "category": "Accelerated computing",
    "gpuNum": 1,
    "hideHardwareSpecs": false,
    "memoryGiB": 256,
    "name": "ml.g5.16xlarge",
    "vcpuNum": 64
   },
   {
    "_defaultOrder": 52,
    "_isFastLaunch": false,
    "category": "Accelerated computing",
    "gpuNum": 4,
    "hideHardwareSpecs": false,
    "memoryGiB": 192,
    "name": "ml.g5.12xlarge",
    "vcpuNum": 48
   },
   {
    "_defaultOrder": 53,
    "_isFastLaunch": false,
    "category": "Accelerated computing",
    "gpuNum": 4,
    "hideHardwareSpecs": false,
    "memoryGiB": 384,
    "name": "ml.g5.24xlarge",
    "vcpuNum": 96
   },
   {
    "_defaultOrder": 54,
    "_isFastLaunch": false,
    "category": "Accelerated computing",
    "gpuNum": 8,
    "hideHardwareSpecs": false,
    "memoryGiB": 768,
    "name": "ml.g5.48xlarge",
    "vcpuNum": 192
   },
   {
    "_defaultOrder": 55,
    "_isFastLaunch": false,
    "category": "Accelerated computing",
    "gpuNum": 8,
    "hideHardwareSpecs": false,
    "memoryGiB": 1152,
    "name": "ml.p4d.24xlarge",
    "vcpuNum": 96
   },
   {
    "_defaultOrder": 56,
    "_isFastLaunch": false,
    "category": "Accelerated computing",
    "gpuNum": 8,
    "hideHardwareSpecs": false,
    "memoryGiB": 1152,
    "name": "ml.p4de.24xlarge",
    "vcpuNum": 96
   }
  ],
  "instance_type": "ml.g4dn.xlarge",
  "kernelspec": {
   "display_name": "Python 3 (PyTorch 2.0.0 Python 3.10 GPU Optimized)",
   "language": "python",
   "name": "python3__SAGEMAKER_INTERNAL__arn:aws:sagemaker:us-east-1:081325390199:image/pytorch-2.0.0-gpu-py310"
  },
  "language_info": {
   "codemirror_mode": {
    "name": "ipython",
    "version": 3
   },
   "file_extension": ".py",
   "mimetype": "text/x-python",
   "name": "python",
   "nbconvert_exporter": "python",
   "pygments_lexer": "ipython3",
   "version": "3.10.8"
  }
 },
 "nbformat": 4,
 "nbformat_minor": 5
}
